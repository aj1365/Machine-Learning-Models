{
  "nbformat": 4,
  "nbformat_minor": 0,
  "metadata": {
    "colab": {
      "name": "3D Classifier.ipynb",
      "provenance": [],
      "collapsed_sections": [],
      "authorship_tag": "ABX9TyOG/z363FlszU8cIlFadYQB",
      "include_colab_link": true
    },
    "kernelspec": {
      "name": "python3",
      "display_name": "Python 3"
    },
    "language_info": {
      "name": "python"
    }
  },
  "cells": [
    {
      "cell_type": "markdown",
      "metadata": {
        "id": "view-in-github",
        "colab_type": "text"
      },
      "source": [
        "<a href=\"https://colab.research.google.com/github/aj1365/Machine-Learning-Models/blob/main/3D_Classifier.ipynb\" target=\"_parent\"><img src=\"https://colab.research.google.com/assets/colab-badge.svg\" alt=\"Open In Colab\"/></a>"
      ]
    },
    {
      "cell_type": "markdown",
      "source": [
        "# **Import required packages**"
      ],
      "metadata": {
        "id": "o8cdsIupq9BJ"
      }
    },
    {
      "cell_type": "code",
      "source": [
        "import keras\n",
        "from keras.layers import Conv2D, Conv3D, Flatten, Dense, Reshape, BatchNormalization,GlobalAveragePooling2D\n",
        "from keras.layers import Dropout, Input\n",
        "from keras.models import Model\n",
        "from tensorflow.keras.optimizers import Adam\n",
        "from keras.callbacks import ModelCheckpoint\n",
        "from keras.utils import np_utils\n",
        "\n",
        "from sklearn.decomposition import PCA\n",
        "from sklearn.model_selection import train_test_split\n",
        "from sklearn.metrics import confusion_matrix, accuracy_score, classification_report, cohen_kappa_score\n",
        "\n",
        "from operator import truediv\n",
        "\n",
        "from plotly.offline import init_notebook_mode\n",
        "\n",
        "import numpy as np\n",
        "import matplotlib.pyplot as plt\n",
        "import scipy.io as sio\n",
        "import os\n",
        "import spectral\n",
        "\n",
        "init_notebook_mode(connected=True)\n",
        "%matplotlib inline"
      ],
      "metadata": {
        "id": "vTfDHAvRq01Z"
      },
      "execution_count": null,
      "outputs": []
    },
    {
      "cell_type": "code",
      "source": [],
      "metadata": {
        "id": "cMeyL-T8q_fB"
      },
      "execution_count": null,
      "outputs": []
    },
    {
      "cell_type": "markdown",
      "source": [
        "# **You can use GPU**\n"
      ],
      "metadata": {
        "id": "-fECRRFHrARb"
      }
    },
    {
      "cell_type": "code",
      "source": [
        "from tensorflow.python.client import device_lib\n",
        "device_lib.list_local_devices()"
      ],
      "metadata": {
        "id": "v6izi0b6qZuJ"
      },
      "execution_count": null,
      "outputs": []
    },
    {
      "cell_type": "code",
      "source": [],
      "metadata": {
        "id": "hjLKEzSbqbii"
      },
      "execution_count": null,
      "outputs": []
    },
    {
      "cell_type": "markdown",
      "source": [
        "# **Load your data**"
      ],
      "metadata": {
        "id": "J8bEqsifqkCC"
      }
    },
    {
      "cell_type": "code",
      "source": [
        "def loadData(name):\n",
        "    \n",
        "    data_path = os.path.join(os.getcwd(),'E:/PolSAR/')\n",
        "   \n",
        "    if name == 'Flevoland':\n",
        "        \n",
        "        data = sio.loadmat(os.path.join(data_path, 'Flevoland.mat'))['Flevoland']\n",
        "        labels = sio.loadmat(os.path.join(data_path, 'Flevoland_15cls.mat'))['label']\n",
        "  \n",
        "    if name == 'SanFrancisco':\n",
        "        \n",
        "        data = sio.loadmat(os.path.join(data_path, 'SanFrancisco.mat'))['SanFrancisco']\n",
        "        labels = sio.loadmat(os.path.join(data_path, 'SanFrancisco_gt.mat'))['label']\n",
        "\n",
        "    \n",
        "    return data, labels"
      ],
      "metadata": {
        "id": "rM-TIJqWqbnx"
      },
      "execution_count": null,
      "outputs": []
    },
    {
      "cell_type": "code",
      "source": [],
      "metadata": {
        "id": "f9yeIuJSqbq9"
      },
      "execution_count": null,
      "outputs": []
    },
    {
      "cell_type": "code",
      "source": [
        "## GLOBAL VARIABLES\n",
        "dataset = 'SanFrancisco'\n",
        "test_ratio = 0.90\n",
        "windowSize = 12"
      ],
      "metadata": {
        "id": "6npzA-8gqbtv"
      },
      "execution_count": null,
      "outputs": []
    },
    {
      "cell_type": "code",
      "source": [
        "def splitTrainTestSet(X, y, testRatio, randomState=345):\n",
        "    X_train, X_test, y_train, y_test = train_test_split(X, y, test_size=testRatio, random_state=randomState,\n",
        "                                                        stratify=y)\n",
        "    return X_train, X_test, y_train, y_test"
      ],
      "metadata": {
        "id": "GTR7zE9Pqbwq"
      },
      "execution_count": null,
      "outputs": []
    },
    {
      "cell_type": "code",
      "source": [
        "def applyPCA(X, numComponents=75):\n",
        "    newX = np.reshape(X, (-1, X.shape[2]))\n",
        "    pca = PCA(n_components=numComponents, whiten=True)\n",
        "    newX = pca.fit_transform(newX)\n",
        "    newX = np.reshape(newX, (X.shape[0],X.shape[1], numComponents))\n",
        "    return newX, pca"
      ],
      "metadata": {
        "id": "5AGEQJAKrZ4J"
      },
      "execution_count": null,
      "outputs": []
    },
    {
      "cell_type": "code",
      "source": [
        "def padWithZeros(X, margin=2):\n",
        "    newX = np.zeros((X.shape[0] + 2 * margin, X.shape[1] + 2* margin, X.shape[2]))\n",
        "    x_offset = margin\n",
        "    y_offset = margin\n",
        "    newX[x_offset:X.shape[0] + x_offset, y_offset:X.shape[1] + y_offset, :] = X\n",
        "    return newX"
      ],
      "metadata": {
        "id": "w2SBM_bDrZ7T"
      },
      "execution_count": null,
      "outputs": []
    },
    {
      "cell_type": "code",
      "source": [
        "def createImageCubes(X, y, windowSize=8, removeZeroLabels = True):\n",
        "    margin = int((windowSize) / 2)\n",
        "    zeroPaddedX = padWithZeros(X, margin=margin)\n",
        "    # split patches\n",
        "    patchesData = np.zeros((X.shape[0] * X.shape[1], windowSize, windowSize, X.shape[2]))\n",
        "    patchesLabels = np.zeros((X.shape[0] * X.shape[1]))\n",
        "    patchIndex = 0\n",
        "    for r in range(margin, zeroPaddedX.shape[0] - margin):\n",
        "        for c in range(margin, zeroPaddedX.shape[1] - margin):\n",
        "            patch = zeroPaddedX[r - margin:r + margin , c - margin:c + margin ]   \n",
        "            patchesData[patchIndex, :, :, :] = patch\n",
        "            patchesLabels[patchIndex] = y[r-margin, c-margin]\n",
        "            patchIndex = patchIndex + 1\n",
        "    if removeZeroLabels:\n",
        "        patchesData = patchesData[patchesLabels>0,:,:,:]\n",
        "        patchesLabels = patchesLabels[patchesLabels>0]\n",
        "        patchesLabels -= 1\n",
        "    return patchesData, patchesLabels"
      ],
      "metadata": {
        "id": "IOmJ4QIjrZ9_"
      },
      "execution_count": null,
      "outputs": []
    },
    {
      "cell_type": "code",
      "source": [],
      "metadata": {
        "id": "Hc69N6EprgNb"
      },
      "execution_count": null,
      "outputs": []
    },
    {
      "cell_type": "markdown",
      "source": [
        "# **Read your data**"
      ],
      "metadata": {
        "id": "K8fS1ZxJriLi"
      }
    },
    {
      "cell_type": "code",
      "source": [
        "X , Y = loadData(dataset)"
      ],
      "metadata": {
        "id": "-nPK5ZpdrgQS"
      },
      "execution_count": null,
      "outputs": []
    },
    {
      "cell_type": "code",
      "source": [
        "X1, Y1 = createImageCubes(X, Y, windowSize=windowSize)\n",
        "X1.shape, Y1.shape"
      ],
      "metadata": {
        "id": "Jk7gFGcprgTL"
      },
      "execution_count": null,
      "outputs": []
    },
    {
      "cell_type": "code",
      "source": [
        "X1 = X1.reshape((X1.shape[0],windowSize,windowSize,12,1))\n",
        "#X=X[:,:,:,0:10]\n",
        "X1.shape"
      ],
      "metadata": {
        "id": "IUzv3JSlrgWM"
      },
      "execution_count": null,
      "outputs": []
    },
    {
      "cell_type": "code",
      "source": [
        "Xtrain, Xtest, ytrain, ytest = splitTrainTestSet(X1, Y1, test_ratio)"
      ],
      "metadata": {
        "id": "65LelxNvrv_K"
      },
      "execution_count": null,
      "outputs": []
    },
    {
      "cell_type": "code",
      "source": [
        "# nunber of classes 5 for San Francisco and 15 for Flevoland\n",
        "output_units = 5"
      ],
      "metadata": {
        "id": "JlqJaCowrwCf"
      },
      "execution_count": null,
      "outputs": []
    },
    {
      "cell_type": "markdown",
      "source": [
        "# **Build your 3D CNN model**"
      ],
      "metadata": {
        "id": "iBwSBLfXs6ty"
      }
    },
    {
      "cell_type": "code",
      "source": [
        "from tensorflow.keras import layers\n",
        "from tensorflow.keras.utils import plot_model"
      ],
      "metadata": {
        "id": "zuvHj6myrwFt"
      },
      "execution_count": null,
      "outputs": []
    },
    {
      "cell_type": "code",
      "source": [
        "def get_cnn_model():\n",
        " \n",
        "    input_shape =  12, 12, 12,1\n",
        "\n",
        "     \n",
        "    imIn = Input(shape=input_shape)\n",
        "    \n",
        "    conv_layer1 = Conv3D(filters=32, kernel_size=(1, 1, 7), activation='relu', padding='same')(imIn)\n",
        "    conv_layer2 = Conv3D(filters=64, kernel_size=(3, 3, 5), activation='relu',padding='same')(conv_layer1)\n",
        "    conv_layer3 = Conv3D(filters=64, kernel_size=(5, 5, 7), activation='relu',padding='same')(conv_layer2)\n",
        "    conv3d_shape = conv_layer3.shape\n",
        "    conv_layer3 = Reshape((conv3d_shape[1], conv3d_shape[2], conv3d_shape[3]*conv3d_shape[4]))(conv_layer3)\n",
        "    conv_layer4 = Conv2D(filters=128, kernel_size=(3,3), activation='relu',padding='same')(conv_layer3)\n",
        "    conv_layer5 = Conv2D(filters=256, kernel_size=(3,3), activation='relu',padding='same')(conv_layer4)\n",
        "    conv_layer5 = GlobalAveragePooling2D()(conv_layer5)\n",
        "    \n",
        "    flatten_layer = Flatten()(conv_layer5)\n",
        "    dense_layer1 = Dense(units=100, activation='relu')(flatten_layer)\n",
        "    dense_layer2 = Dense(units=50, activation='relu')(dense_layer1)\n",
        "    dense_layer1 = Dropout(0.5)(dense_layer2)\n",
        "  \n",
        "    output_layer = Dense(units=output_units, activation='softmax')(dense_layer1)\n",
        " \n",
        "    model = Model(inputs=[imIn], outputs=output_layer)\n",
        "    model.summary()\n",
        "    plot_model(model, to_file='E:/PolSAR/3DClassifier.png', show_shapes=True, show_layer_names=True)\n",
        "    \n",
        "\n",
        "    return model"
      ],
      "metadata": {
        "id": "mfgflkJHsAFi"
      },
      "execution_count": null,
      "outputs": []
    },
    {
      "cell_type": "code",
      "source": [
        "model = get_cnn_model()"
      ],
      "metadata": {
        "id": "SANJeKiqsAIw"
      },
      "execution_count": null,
      "outputs": []
    },
    {
      "cell_type": "markdown",
      "source": [
        "# **Intialize your 3D CNN model**"
      ],
      "metadata": {
        "id": "8NYbT0kutHDZ"
      }
    },
    {
      "cell_type": "code",
      "source": [
        "weight_decay = 0.0001\n",
        "batch_size = 32\n",
        "dropout_rate = 0.5\n",
        "learning_rate = 0.001"
      ],
      "metadata": {
        "id": "s43GzbvwsAL0"
      },
      "execution_count": null,
      "outputs": []
    },
    {
      "cell_type": "code",
      "source": [
        "import tensorflow_addons as tfa"
      ],
      "metadata": {
        "id": "pfjABX3VsLYK"
      },
      "execution_count": null,
      "outputs": []
    },
    {
      "cell_type": "markdown",
      "source": [
        "# **Train your 3D CNN model**"
      ],
      "metadata": {
        "id": "Td6NkZXJtE-K"
      }
    },
    {
      "cell_type": "code",
      "source": [
        "optimizer = tfa.optimizers.AdamW(\n",
        "        learning_rate=learning_rate, weight_decay=weight_decay\n",
        "    )\n",
        "\n",
        "model.compile(\n",
        "        optimizer=optimizer,\n",
        "        loss=keras.losses.SparseCategoricalCrossentropy(from_logits=False),\n",
        "        metrics=[\n",
        "            keras.metrics.SparseCategoricalAccuracy(name=\"accuracy\"),\n",
        "            keras.metrics.SparseTopKCategoricalAccuracy(5, name=\"top-5-accuracy\"),\n",
        "        ],\n",
        "    )\n",
        "\n",
        "checkpoint_filepath = \"E:/PolSAR/CNN_SanF\"\n",
        "checkpoint_callback = keras.callbacks.ModelCheckpoint(\n",
        "        checkpoint_filepath,\n",
        "        monitor=\"val_accuracy\",\n",
        "        save_best_only=True,\n",
        "        save_weights_only=True,\n",
        "    )\n",
        "\n",
        "history = model.fit(\n",
        "        x=Xtrain,\n",
        "        y=ytrain,\n",
        "        batch_size=batch_size,\n",
        "        epochs=100,\n",
        "        validation_split=0.1,\n",
        "        callbacks=[checkpoint_callback],\n",
        "    )"
      ],
      "metadata": {
        "id": "8vMewEaWsLbk"
      },
      "execution_count": null,
      "outputs": []
    },
    {
      "cell_type": "code",
      "source": [],
      "metadata": {
        "id": "Gsp5cK_JsLe-"
      },
      "execution_count": null,
      "outputs": []
    },
    {
      "cell_type": "code",
      "source": [
        "plt.figure(figsize=(7,7)) \n",
        "plt.grid() \n",
        "plt.plot(history.history['loss'])\n",
        "\n",
        "plt.savefig('E:/PolSAR/3DClassifier.tiff',facecolor='w', dpi=500)"
      ],
      "metadata": {
        "id": "aRGRAH6wsAON"
      },
      "execution_count": null,
      "outputs": []
    },
    {
      "cell_type": "markdown",
      "source": [
        "# **Test your 3D CNN model**"
      ],
      "metadata": {
        "id": "aDQ1oniutNrZ"
      }
    },
    {
      "cell_type": "code",
      "source": [
        "Xtest = Xtest.reshape(-1, 12, 12, 12,1)\n",
        "\n",
        "\n",
        "Xtest.shape"
      ],
      "metadata": {
        "id": "kx96xrUjraAK"
      },
      "execution_count": null,
      "outputs": []
    },
    {
      "cell_type": "code",
      "source": [
        "Y_pred_test = model.predict([Xtest])\n",
        "y_pred_test = np.argmax(Y_pred_test, axis=1)\n"
      ],
      "metadata": {
        "id": "sUp4ueVEsblC"
      },
      "execution_count": null,
      "outputs": []
    },
    {
      "cell_type": "code",
      "source": [
        "ca = np.sum(y_pred_test == ytest) / ytest.shape[0]\n",
        "\n",
        "print(\"Classification accuracy: %.5f\" % ca)"
      ],
      "metadata": {
        "id": "SYam0ac8sboX"
      },
      "execution_count": null,
      "outputs": []
    },
    {
      "cell_type": "code",
      "source": [
        "# Classification Report\n",
        "print(classification_report(ytest, y_pred_test,\n",
        "      target_names = [\n",
        "          \n",
        " 'Bare Soil',\n",
        " 'Mountain',\n",
        " 'Water',\n",
        " 'Building',\n",
        " 'Vegetation',\n",
        "\n",
        "\n",
        "                      ]))"
      ],
      "metadata": {
        "id": "OE_cL0y1sbrk"
      },
      "execution_count": null,
      "outputs": []
    },
    {
      "cell_type": "code",
      "source": [],
      "metadata": {
        "id": "tyG3dvjLsb0V"
      },
      "execution_count": null,
      "outputs": []
    }
  ]
}