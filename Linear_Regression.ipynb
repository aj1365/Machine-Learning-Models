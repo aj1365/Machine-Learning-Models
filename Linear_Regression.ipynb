{
  "nbformat": 4,
  "nbformat_minor": 0,
  "metadata": {
    "colab": {
      "provenance": [],
      "authorship_tag": "ABX9TyORdH7HWCnwkw3B3BqCK3+u",
      "include_colab_link": true
    },
    "kernelspec": {
      "name": "python3",
      "display_name": "Python 3"
    },
    "language_info": {
      "name": "python"
    }
  },
  "cells": [
    {
      "cell_type": "markdown",
      "metadata": {
        "id": "view-in-github",
        "colab_type": "text"
      },
      "source": [
        "<a href=\"https://colab.research.google.com/github/aj1365/Machine-Learning-Models/blob/main/Linear_Regression.ipynb\" target=\"_parent\"><img src=\"https://colab.research.google.com/assets/colab-badge.svg\" alt=\"Open In Colab\"/></a>"
      ]
    },
    {
      "cell_type": "code",
      "execution_count": 1,
      "metadata": {
        "id": "-gjoGxhgLwe-"
      },
      "outputs": [],
      "source": [
        "from __future__ import absolute_import, division, print_function\n",
        "import tensorflow as tf\n",
        "import numpy as np\n",
        "import matplotlib.pyplot as plt"
      ]
    },
    {
      "cell_type": "code",
      "source": [
        "#parameters\n",
        "learning_rate=0.001\n",
        "training_steps=10000\n",
        "display_step=500"
      ],
      "metadata": {
        "id": "-NOuwfsdL10N"
      },
      "execution_count": 2,
      "outputs": []
    },
    {
      "cell_type": "code",
      "source": [
        "# Training Data.\n",
        "X = np.array([1.3,4.4,6.8,4.2,9.8,6.2,7.6,2.8,\n",
        "              7.1,10.8,5.3,7.5,5.9,9.27,3.1,1.8])\n",
        "Y = np.array([1.7,2.6,2.6,1.6,3.4,2.8,2.2,1.5,\n",
        "              2.0,3.7,1.1,2.3,2.42,2.6,1.3,1.4])"
      ],
      "metadata": {
        "id": "HZIuaKTfL3kq"
      },
      "execution_count": 3,
      "outputs": []
    },
    {
      "cell_type": "code",
      "source": [
        "############# trainable parameters\n",
        "a=tf.Variable(np.random.randn(), name=\"weight\")\n",
        "b=tf.Variable(np.random.randn(), name=\"bias\")\n",
        "\n",
        "############ model\n",
        "def linear_regression(x):\n",
        "    return a * x + b\n",
        "########## loss function\n",
        "def mean_square_loss(y_pred, y_true):\n",
        "    return tf.reduce_mean(tf.square(y_pred - y_true))\n",
        "\n",
        "########### optimizer\n",
        "optimizer=tf.optimizers.SGD(learning_rate)"
      ],
      "metadata": {
        "id": "5plLq2ffL3o3"
      },
      "execution_count": 4,
      "outputs": []
    },
    {
      "cell_type": "code",
      "source": [
        "############## optimization process\n",
        "def run_optimization(x, y):\n",
        "\n",
        "    with tf.GradientTape() as g:\n",
        "\n",
        "        pred=linear_regression(x)\n",
        "        loss=mean_square_loss(pred, y)\n",
        "\n",
        "    gradients=g.gradient(loss, [a, b])\n",
        "\n",
        "    optimizer.apply_gradients(zip(gradients, [a, b]))"
      ],
      "metadata": {
        "id": "e6asx0dXL3ry"
      },
      "execution_count": 5,
      "outputs": []
    },
    {
      "cell_type": "code",
      "source": [
        "############### Training procedure\n",
        "\n",
        "for step in range(1, training_steps+1):\n",
        "\n",
        "\n",
        "    run_optimization(X, Y)\n",
        "\n",
        "    if step % display_step==0:\n",
        "\n",
        "        pred=linear_regression(X)\n",
        "        loss=mean_square_loss(pred, Y)\n",
        "\n",
        "        print(\"step: %i, loss: %f, a: %f, b: %f\"  % (step, loss, a, b))"
      ],
      "metadata": {
        "colab": {
          "base_uri": "https://localhost:8080/"
        },
        "id": "Yu7jKmcmL8G4",
        "outputId": "523a241f-ac55-4906-e586-cfcaa6a952d3"
      },
      "execution_count": 6,
      "outputs": [
        {
          "output_type": "stream",
          "name": "stdout",
          "text": [
            "step: 1000, loss: 0.294909, a: 0.104119, b: 1.723258\n",
            "step: 1500, loss: 0.264516, a: 0.121273, b: 1.601329\n",
            "step: 2000, loss: 0.243081, a: 0.135679, b: 1.498936\n",
            "step: 2500, loss: 0.227965, a: 0.147777, b: 1.412946\n",
            "step: 3000, loss: 0.217304, a: 0.157937, b: 1.340734\n",
            "step: 3500, loss: 0.209786, a: 0.166469, b: 1.280092\n",
            "step: 4000, loss: 0.204483, a: 0.173634, b: 1.229165\n",
            "step: 4500, loss: 0.200744, a: 0.179651, b: 1.186396\n",
            "step: 5000, loss: 0.198107, a: 0.184704, b: 1.150480\n",
            "step: 5500, loss: 0.196247, a: 0.188948, b: 1.120317\n",
            "step: 6000, loss: 0.194935, a: 0.192511, b: 1.094988\n",
            "step: 6500, loss: 0.194010, a: 0.195504, b: 1.073716\n",
            "step: 7000, loss: 0.193358, a: 0.198017, b: 1.055853\n",
            "step: 7500, loss: 0.192897, a: 0.200128, b: 1.040852\n",
            "step: 8000, loss: 0.192573, a: 0.201900, b: 1.028254\n",
            "step: 8500, loss: 0.192344, a: 0.203389, b: 1.017674\n",
            "step: 9000, loss: 0.192183, a: 0.204639, b: 1.008789\n",
            "step: 9500, loss: 0.192069, a: 0.205689, b: 1.001328\n",
            "step: 10000, loss: 0.191989, a: 0.206570, b: 0.995062\n"
          ]
        }
      ]
    },
    {
      "cell_type": "code",
      "source": [
        "############ plot the results\n",
        "\n",
        "plt.plot(X, Y, 'ro', label='original data')\n",
        "plt.plot(X, a * X + b, label='fitted line')\n",
        "plt.legend()\n",
        "plt.show()"
      ],
      "metadata": {
        "colab": {
          "base_uri": "https://localhost:8080/",
          "height": 430
        },
        "id": "lQ0278d3L8Jo",
        "outputId": "0116ce06-eb70-4d5c-fa61-dd03ecd064f3"
      },
      "execution_count": 7,
      "outputs": [
        {
          "output_type": "display_data",
          "data": {
            "text/plain": [
              "<Figure size 640x480 with 1 Axes>"
            ],
            "image/png": "[encoded data removed]"
          },
          "metadata": {}
        }
      ]
    },
    {
      "cell_type": "code",
      "source": [],
      "metadata": {
        "id": "tB6u6dreL3uN"
      },
      "execution_count": null,
      "outputs": []
    }
  ]
}