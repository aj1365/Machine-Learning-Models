{
  "nbformat": 4,
  "nbformat_minor": 0,
  "metadata": {
    "colab": {
      "provenance": [],
      "authorship_tag": "ABX9TyNu90Pebc1alEc+Zp5u3vkf",
      "include_colab_link": true
    },
    "kernelspec": {
      "name": "python3",
      "display_name": "Python 3"
    },
    "language_info": {
      "name": "python"
    }
  },
  "cells": [
    {
      "cell_type": "markdown",
      "metadata": {
        "id": "view-in-github",
        "colab_type": "text"
      },
      "source": [
        "<a href=\"https://colab.research.google.com/github/aj1365/Machine-Learning-Models/blob/main/Logistic_Regression.ipynb\" target=\"_parent\"><img src=\"https://colab.research.google.com/assets/colab-badge.svg\" alt=\"Open In Colab\"/></a>"
      ]
    },
    {
      "cell_type": "code",
      "execution_count": 1,
      "metadata": {
        "id": "i5Px2Srg8KAs"
      },
      "outputs": [],
      "source": [
        "from __future__ import absolute_import, division, print_function\n",
        "import tensorflow as tf\n",
        "import numpy as np\n",
        "import matplotlib.pyplot as plt"
      ]
    },
    {
      "cell_type": "code",
      "source": [
        "######### global parameters\n",
        "num_classes=10\n",
        "num_features=784  ## 28 by 28 image\n",
        "\n",
        "########## Hyperparameters\n",
        "learning_rate=0.001\n",
        "training_steps=5000\n",
        "batch_size=256\n",
        "\n",
        "########### visualization\n",
        "display_step=200"
      ],
      "metadata": {
        "id": "liqyac1M8OwS"
      },
      "execution_count": 2,
      "outputs": []
    },
    {
      "cell_type": "code",
      "source": [
        "######## load data, convert them into arry, reshape them into 1-D vector, and finally do data normaliation [0, 1]\n",
        "from tensorflow.keras.datasets import mnist\n",
        "\n",
        "(x_train, y_train), (x_test, y_test)= mnist.load_data()\n",
        "\n",
        "x_train, x_test= np.array(x_train, np.float32), np.array(x_test, np.float32)\n",
        "x_train, x_test= x_train.reshape([-1, num_features]), x_test.reshape([-1, num_features])\n",
        "x_train, x_test= x_train / 255., x_test / 255."
      ],
      "metadata": {
        "colab": {
          "base_uri": "https://localhost:8080/",
          "height": 0
        },
        "id": "xstu64Jz8T3g",
        "outputId": "d62af6d2-9917-4bcc-9411-138ea908bd3f"
      },
      "execution_count": 3,
      "outputs": [
        {
          "output_type": "stream",
          "name": "stdout",
          "text": [
            "Downloading data from https://storage.googleapis.com/tensorflow/tf-keras-datasets/mnist.npz\n",
            "11490434/11490434 [==============================] - 0s 0us/step\n"
          ]
        }
      ]
    },
    {
      "cell_type": "code",
      "source": [
        "############### creating data holder (mini-batches)\n",
        "train_data=tf.data.Dataset.from_tensor_slices((x_train, y_train))\n",
        "train_data=train_data.repeat().shuffle(5000).batch(batch_size).prefetch(1)"
      ],
      "metadata": {
        "id": "K5yRSDla8Xah"
      },
      "execution_count": 4,
      "outputs": []
    },
    {
      "cell_type": "code",
      "source": [
        "############### Initialize learnable variables\n",
        "randomnormal= tf.initializers.RandomNormal()\n",
        "W= tf.Variable(randomnormal([num_features, num_classes]), name=\"weight\")\n",
        "b= tf.Variable(tf.zeros([num_classes]), name=\"bias\")\n",
        "\n",
        "########## classifier\n",
        "\n",
        "def logistic_regression(x):\n",
        "    return tf.nn.softmax(tf.add(tf.matmul(x, W), b))\n",
        "\n",
        "############# loss function\n",
        "def cross_entropy(y_pred, y_true):\n",
        "\n",
        "    y_true=tf.one_hot(y_true, depth=num_classes)\n",
        "\n",
        "    y_pred=tf.clip_by_value(y_pred, 1e-9, 1.)\n",
        "\n",
        "    return tf.reduce_mean(-tf.reduce_sum( y_true * tf.math.log(y_pred)))\n",
        "\n",
        "############### model validation algorithm\n",
        "def accuracy(y_pred, y_true):\n",
        "\n",
        "    correct_prediction=tf.equal(tf.argmax(y_pred, 1), tf.cast(y_true, tf.int64))\n",
        "    return tf.reduce_mean(tf.cast (correct_prediction, tf.float32))\n",
        "\n",
        "############ optimizer\n",
        "optimizer=tf.optimizers.SGD(learning_rate)"
      ],
      "metadata": {
        "id": "RK2y02mL8Z57"
      },
      "execution_count": 5,
      "outputs": []
    },
    {
      "cell_type": "code",
      "source": [
        "############## optimization process\n",
        "\n",
        "def run_optimization(x, y):\n",
        "\n",
        "    with tf.GradientTape() as g:\n",
        "\n",
        "        pred=logistic_regression(x)\n",
        "        loss=cross_entropy(pred, y)\n",
        "\n",
        "\n",
        "    gradients=g.gradient(loss, [W, b])\n",
        "    optimizer.apply_gradients(zip(gradients, [W, b]))\n",
        "\n",
        "    return"
      ],
      "metadata": {
        "id": "zlyexwts8bei"
      },
      "execution_count": 6,
      "outputs": []
    },
    {
      "cell_type": "code",
      "source": [
        "################## training process\n",
        "\n",
        "for step, (batch_x, batch_y) in enumerate(train_data.take(training_steps ),1):\n",
        "\n",
        "    run_optimization(batch_x, batch_y)\n",
        "\n",
        "\n",
        "    if step % display_step ==0:\n",
        "\n",
        "        pred=logistic_regression(batch_x)\n",
        "        loss=cross_entropy(pred, batch_y)\n",
        "        acc=accuracy(pred, batch_y)\n",
        "\n",
        "        print(\"step: %i, loss: %f, accuracy: %f\"% (step, loss, acc))"
      ],
      "metadata": {
        "colab": {
          "base_uri": "https://localhost:8080/",
          "height": 0
        },
        "id": "CW6mfirx8ezi",
        "outputId": "f36445ff-15bd-40ab-8921-5e26d7c2db9e"
      },
      "execution_count": 7,
      "outputs": [
        {
          "output_type": "stream",
          "name": "stdout",
          "text": [
            "step: 200, loss: 99.747711, accuracy: 0.890625\n",
            "step: 400, loss: 89.047295, accuracy: 0.890625\n",
            "step: 600, loss: 72.605446, accuracy: 0.910156\n",
            "step: 800, loss: 88.941055, accuracy: 0.906250\n",
            "step: 1000, loss: 65.747383, accuracy: 0.929688\n",
            "step: 1200, loss: 63.517178, accuracy: 0.929688\n",
            "step: 1400, loss: 53.701229, accuracy: 0.933594\n",
            "step: 1600, loss: 91.347786, accuracy: 0.906250\n",
            "step: 1800, loss: 72.825905, accuracy: 0.933594\n",
            "step: 2000, loss: 76.561813, accuracy: 0.921875\n",
            "step: 2200, loss: 85.434189, accuracy: 0.925781\n",
            "step: 2400, loss: 53.670883, accuracy: 0.945312\n",
            "step: 2600, loss: 49.055405, accuracy: 0.945312\n",
            "step: 2800, loss: 65.820732, accuracy: 0.921875\n",
            "step: 3000, loss: 76.920685, accuracy: 0.894531\n",
            "step: 3200, loss: 62.722580, accuracy: 0.914062\n",
            "step: 3400, loss: 57.895237, accuracy: 0.945312\n",
            "step: 3600, loss: 54.719067, accuracy: 0.957031\n",
            "step: 3800, loss: 65.722038, accuracy: 0.906250\n",
            "step: 4000, loss: 63.330154, accuracy: 0.933594\n",
            "step: 4200, loss: 61.486515, accuracy: 0.941406\n",
            "step: 4400, loss: 57.328438, accuracy: 0.917969\n",
            "step: 4600, loss: 69.795563, accuracy: 0.910156\n",
            "step: 4800, loss: 97.005348, accuracy: 0.902344\n",
            "step: 5000, loss: 67.947525, accuracy: 0.925781\n"
          ]
        }
      ]
    },
    {
      "cell_type": "code",
      "source": [
        "############ model validation\n",
        "pred=logistic_regression(x_test)\n",
        "print(\"accuracy: %f\"% accuracy(pred, y_test))"
      ],
      "metadata": {
        "colab": {
          "base_uri": "https://localhost:8080/",
          "height": 0
        },
        "id": "F8epzng18gjy",
        "outputId": "5e723f93-6b50-4235-8795-871988c03335"
      },
      "execution_count": 8,
      "outputs": [
        {
          "output_type": "stream",
          "name": "stdout",
          "text": [
            "accuracy: 0.923500\n"
          ]
        }
      ]
    },
    {
      "cell_type": "code",
      "source": [
        "############## visualization\n",
        "\n",
        "n_images=3\n",
        "images=x_test[:n_images]\n",
        "prediction=logistic_regression(images)\n",
        "\n",
        "\n",
        "for i in range(n_images):\n",
        "\n",
        "    plt.imshow(np.reshape(images[i], [28 , 28]), cmap='gray')\n",
        "    plt.show()\n",
        "    print(\" Predicted class : %i\" % np.argmax(prediction[i]))\n",
        ""
      ],
      "metadata": {
        "colab": {
          "base_uri": "https://localhost:8080/",
          "height": 1308
        },
        "id": "PU3o8Uj08j5H",
        "outputId": "1c47a963-e9e2-489f-8001-ea00617777a1"
      },
      "execution_count": 9,
      "outputs": [
        {
          "output_type": "display_data",
          "data": {
            "text/plain": [
              "<Figure size 640x480 with 1 Axes>"
            ],
            "image/png": "[encoded data removed]"
          },
          "metadata": {}
        },
        {
          "output_type": "stream",
          "name": "stdout",
          "text": [
            " Predicted class : 7\n"
          ]
        },
        {
          "output_type": "display_data",
          "data": {
            "text/plain": [
              "<Figure size 640x480 with 1 Axes>"
            ],
            "image/png": "[encoded data removed]"
          },
          "metadata": {}
        },
        {
          "output_type": "stream",
          "name": "stdout",
          "text": [
            " Predicted class : 2\n"
          ]
        },
        {
          "output_type": "display_data",
          "data": {
            "text/plain": [
              "<Figure size 640x480 with 1 Axes>"
            ],
            "image/png": "[encoded data removed]"
          },
          "metadata": {}
        },
        {
          "output_type": "stream",
          "name": "stdout",
          "text": [
            " Predicted class : 1\n"
          ]
        }
      ]
    }
  ]
}